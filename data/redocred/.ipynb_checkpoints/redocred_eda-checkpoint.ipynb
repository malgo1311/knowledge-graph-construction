{
 "cells": [
  {
   "cell_type": "code",
   "execution_count": 1,
   "id": "65d18b04-af97-48d4-9dd2-1a40b70b8a25",
   "metadata": {},
   "outputs": [],
   "source": [
    "import os\n",
    "import pandas as pd\n",
    "import collections"
   ]
  },
  {
   "cell_type": "code",
   "execution_count": 9,
   "id": "f3d17745-4939-4cca-9e0e-b3b47dc7fc09",
   "metadata": {},
   "outputs": [
    {
     "name": "stdout",
     "output_type": "stream",
     "text": [
      "(500, 4)\n"
     ]
    },
    {
     "data": {
      "text/html": [
       "<div>\n",
       "<style scoped>\n",
       "    .dataframe tbody tr th:only-of-type {\n",
       "        vertical-align: middle;\n",
       "    }\n",
       "\n",
       "    .dataframe tbody tr th {\n",
       "        vertical-align: top;\n",
       "    }\n",
       "\n",
       "    .dataframe thead th {\n",
       "        text-align: right;\n",
       "    }\n",
       "</style>\n",
       "<table border=\"1\" class=\"dataframe\">\n",
       "  <thead>\n",
       "    <tr style=\"text-align: right;\">\n",
       "      <th></th>\n",
       "      <th>Unnamed: 0</th>\n",
       "      <th>Title</th>\n",
       "      <th>Text</th>\n",
       "      <th>Triplets</th>\n",
       "    </tr>\n",
       "  </thead>\n",
       "  <tbody>\n",
       "    <tr>\n",
       "      <th>0</th>\n",
       "      <td>0</td>\n",
       "      <td>Willi Schneider (skeleton racer)</td>\n",
       "      <td>Wilfried \" Willi \" Schneider (born 13 March 19...</td>\n",
       "      <td>2002 Winter Olympics | start time | 2002\\n2002...</td>\n",
       "    </tr>\n",
       "    <tr>\n",
       "      <th>1</th>\n",
       "      <td>1</td>\n",
       "      <td>Ross Alger</td>\n",
       "      <td>Ross Patterson Alger (August 20, 1920  January...</td>\n",
       "      <td>Ross Patterson Alger | place of birth | Prelat...</td>\n",
       "    </tr>\n",
       "    <tr>\n",
       "      <th>2</th>\n",
       "      <td>2</td>\n",
       "      <td>Mess of Blues (Jeff Healey album)</td>\n",
       "      <td>Mess of Blues is an album by Jeff Healey. It w...</td>\n",
       "      <td>Mess of Blues | publication date | 2008\\nMess ...</td>\n",
       "    </tr>\n",
       "    <tr>\n",
       "      <th>3</th>\n",
       "      <td>3</td>\n",
       "      <td>Ramey Idriss</td>\n",
       "      <td>Ramey Idriss (11 September 1911  5 February 19...</td>\n",
       "      <td>Wet Blanket Policy | publication date | 1948\\n...</td>\n",
       "    </tr>\n",
       "    <tr>\n",
       "      <th>4</th>\n",
       "      <td>4</td>\n",
       "      <td>ELAM (Latin American School of Medicine) Cuba</td>\n",
       "      <td>Escuela Latinoamericana de Medicina (ELAM), fo...</td>\n",
       "      <td>Latin American School of Medicine | country | ...</td>\n",
       "    </tr>\n",
       "  </tbody>\n",
       "</table>\n",
       "</div>"
      ],
      "text/plain": [
       "   Unnamed: 0                                          Title  \\\n",
       "0           0               Willi Schneider (skeleton racer)   \n",
       "1           1                                     Ross Alger   \n",
       "2           2              Mess of Blues (Jeff Healey album)   \n",
       "3           3                                   Ramey Idriss   \n",
       "4           4  ELAM (Latin American School of Medicine) Cuba   \n",
       "\n",
       "                                                Text  \\\n",
       "0  Wilfried \" Willi \" Schneider (born 13 March 19...   \n",
       "1  Ross Patterson Alger (August 20, 1920  January...   \n",
       "2  Mess of Blues is an album by Jeff Healey. It w...   \n",
       "3  Ramey Idriss (11 September 1911  5 February 19...   \n",
       "4  Escuela Latinoamericana de Medicina (ELAM), fo...   \n",
       "\n",
       "                                            Triplets  \n",
       "0  2002 Winter Olympics | start time | 2002\\n2002...  \n",
       "1  Ross Patterson Alger | place of birth | Prelat...  \n",
       "2  Mess of Blues | publication date | 2008\\nMess ...  \n",
       "3  Wet Blanket Policy | publication date | 1948\\n...  \n",
       "4  Latin American School of Medicine | country | ...  "
      ]
     },
     "execution_count": 9,
     "metadata": {},
     "output_type": "execute_result"
    }
   ],
   "source": [
    "data_path = \"/work/pi_dhruveshpate_umass_edu/project_19/ReDocREDPreprocessing/Re-DocRED/processed/\"\n",
    "file = \"Re-DocRED_Processed_Dev.csv\"\n",
    "\n",
    "data = pd.read_csv(os.path.join(data_path, file))\n",
    "print(data.shape)\n",
    "data.head()"
   ]
  },
  {
   "cell_type": "markdown",
   "id": "ef4e96ea-1b12-4d9d-a33c-b0fe26d9d940",
   "metadata": {},
   "source": [
    "### Number of samples\n",
    "Dev - 500\n",
    "\n",
    "Test - 500\n",
    "\n",
    "Train - 3053"
   ]
  },
  {
   "cell_type": "code",
   "execution_count": null,
   "id": "9aa4e427-17fd-4d11-8922-f203d4aed490",
   "metadata": {},
   "outputs": [],
   "source": [
    "maxInputTokens = 0\n",
    "maxTriplets = 0\n",
    "\n",
    "for idx in range(data.shape[0]):\n",
    "    # print(idx)\n",
    "    \n",
    "    try:\n",
    "        maxInputTokens = max(maxInputTokens, len(data[\"Text\"][idx].split(\" \")))\n",
    "        maxTriplets = max(maxTriplets, len(data[\"Triplets\"][idx].split(\"\\n\")))\n",
    "        \n",
    "    except Exception as e:\n",
    "        print(e)\n",
    "        print(data[\"Triplets\"][idx])\n",
    "    \n",
    "maxInputTokens, maxTriplets"
   ]
  },
  {
   "cell_type": "code",
   "execution_count": null,
   "id": "25e40846-cc98-4cdf-9dbb-66be55bf9543",
   "metadata": {},
   "outputs": [],
   "source": [
    "idx = 100\n",
    "print(data[\"Text\"][idx])\n",
    "print()\n",
    "\n",
    "allEntities = set()\n",
    "for item in data[\"Triplets\"][idx].split(\"\\n\"):\n",
    "    item = item.split(\" | \")\n",
    "    if len(item) == 3:\n",
    "        allEntities.add(item[0])\n",
    "        allEntities.add(item[2])\n",
    "\n",
    "print(len(allEntities), list(allEntities))"
   ]
  },
  {
   "cell_type": "markdown",
   "id": "234bd683-8a9d-4c0d-8a3c-879b37e5c064",
   "metadata": {},
   "source": [
    "## Create prompt"
   ]
  },
  {
   "cell_type": "code",
   "execution_count": 7,
   "id": "bac7bf0d-8bc7-4c9a-99b4-54834c0e929e",
   "metadata": {},
   "outputs": [
    {
     "data": {
      "text/html": [
       "<div>\n",
       "<style scoped>\n",
       "    .dataframe tbody tr th:only-of-type {\n",
       "        vertical-align: middle;\n",
       "    }\n",
       "\n",
       "    .dataframe tbody tr th {\n",
       "        vertical-align: top;\n",
       "    }\n",
       "\n",
       "    .dataframe thead th {\n",
       "        text-align: right;\n",
       "    }\n",
       "</style>\n",
       "<table border=\"1\" class=\"dataframe\">\n",
       "  <thead>\n",
       "    <tr style=\"text-align: right;\">\n",
       "      <th></th>\n",
       "      <th>Unnamed: 0</th>\n",
       "      <th>Title</th>\n",
       "      <th>Text</th>\n",
       "      <th>Triplets</th>\n",
       "    </tr>\n",
       "  </thead>\n",
       "  <tbody>\n",
       "    <tr>\n",
       "      <th>0</th>\n",
       "      <td>1999</td>\n",
       "      <td>Mozilla Composer</td>\n",
       "      <td>Mozilla Composer is the free and open-source H...</td>\n",
       "      <td>Daniel Glazman | notable work | BlueGriffon\\nG...</td>\n",
       "    </tr>\n",
       "    <tr>\n",
       "      <th>1</th>\n",
       "      <td>2000</td>\n",
       "      <td>Udawalawe National Park</td>\n",
       "      <td>Udawalawe National Park lies on the boundary o...</td>\n",
       "      <td>Sabaragamuwa | located in the administrative t...</td>\n",
       "    </tr>\n",
       "    <tr>\n",
       "      <th>2</th>\n",
       "      <td>2001</td>\n",
       "      <td>The Road to Ruin (John and Beverley Martyn album)</td>\n",
       "      <td>The Road to Ruin is a 1970 album released by h...</td>\n",
       "      <td>John | record label | Island Records\\nJohn | s...</td>\n",
       "    </tr>\n",
       "    <tr>\n",
       "      <th>3</th>\n",
       "      <td>2002</td>\n",
       "      <td>List of awards and nominations received by Rob...</td>\n",
       "      <td>This list includes awards and nominations of f...</td>\n",
       "      <td>Robert De Niro | award received | Academy Awar...</td>\n",
       "    </tr>\n",
       "    <tr>\n",
       "      <th>4</th>\n",
       "      <td>2003</td>\n",
       "      <td>The Life and Times of David Lloyd George</td>\n",
       "      <td>The Life and Times of David Lloyd George is a ...</td>\n",
       "      <td>David Lloyd George | place of birth | Manchest...</td>\n",
       "    </tr>\n",
       "  </tbody>\n",
       "</table>\n",
       "</div>"
      ],
      "text/plain": [
       "   Unnamed: 0                                              Title  \\\n",
       "0        1999                                   Mozilla Composer   \n",
       "1        2000                            Udawalawe National Park   \n",
       "2        2001  The Road to Ruin (John and Beverley Martyn album)   \n",
       "3        2002  List of awards and nominations received by Rob...   \n",
       "4        2003           The Life and Times of David Lloyd George   \n",
       "\n",
       "                                                Text  \\\n",
       "0  Mozilla Composer is the free and open-source H...   \n",
       "1  Udawalawe National Park lies on the boundary o...   \n",
       "2  The Road to Ruin is a 1970 album released by h...   \n",
       "3  This list includes awards and nominations of f...   \n",
       "4  The Life and Times of David Lloyd George is a ...   \n",
       "\n",
       "                                            Triplets  \n",
       "0  Daniel Glazman | notable work | BlueGriffon\\nG...  \n",
       "1  Sabaragamuwa | located in the administrative t...  \n",
       "2  John | record label | Island Records\\nJohn | s...  \n",
       "3  Robert De Niro | award received | Academy Awar...  \n",
       "4  David Lloyd George | place of birth | Manchest...  "
      ]
     },
     "execution_count": 7,
     "metadata": {},
     "output_type": "execute_result"
    }
   ],
   "source": [
    "data_path = \"/work/pi_dhruveshpate_umass_edu/project_19/ReDocREDPreprocessing/Re-DocRED/processed/\"\n",
    "file_v2 = \"Re-DocRED_Processed_Train.csv\"\n",
    "\n",
    "data_v2 = pd.read_csv(os.path.join(data_path, file_v2), skiprows = range(1, 2000), nrows = 1000)\n",
    "# print(data_v2.shape)\n",
    "data_v2.head()"
   ]
  },
  {
   "cell_type": "code",
   "execution_count": 17,
   "id": "464abb9a-8c85-48bf-9dd2-bd42ff350910",
   "metadata": {},
   "outputs": [
    {
     "name": "stdout",
     "output_type": "stream",
     "text": [
      "Best Wishes is the second album by New York hardcore band, Cro-Mags. It was released on April 26, 1989 on Profile Records and was subsequently re-released on Another Planet  along with their debut album, The Age Of Quarrel, on the same disc. The album's cover reflected the band's interest in the Hare Krishna religion which started with previous singer John Joseph and then carried on through Harley Flanagan who also became a devotee. The Krishna faith was ultimately the demise of the band, as the contradiction of a faith of pacifism against the violence of the band's music was often even too much for the band members to handle. However, before this, in 1992, their next album, Alpha Omega, saw the return of John Joseph to the Cro-Mags fold, and an even further gravitation towards a metal sound.  ['Harley Flanagan', 'The Age Of Quarrel', 'Cro-Mags', 'New York', 'Profile Records', 'John Joseph', 'Cro - Mags', 'Another Planet', '1992', 'Alpha Omega', 'Best Wishes', 'April 26, 1989']\n",
      "\n",
      "Grece is a village in the Menderes district of Izmir Province, Turkey. It is known for its production of eye beads. Today, the real eye beads are produced only in Grece and Kurudere (Kemalpaa) villages near Izmir by a handful of craftsmen, who have devoted their lives to this art. The 3000-year-old antique Mediterranean glass art lives in these eye bead furnaces with its every detail. The roots of the very few glass masters who still practise this age-old tradition goes back to the Arab artisans, who have settled in Izmir and its towns during the decline of the Ottoman Empire by the end of 19th century. The glass art that has lost its glamour in Anatolia, combining with the eye sign, was relived. The masters who practised their arts at Araphan and Kemeralt, districts of zmir, were exiled due to the smoke emissions from their furnaces and fire risks to the neighbourhood.  ['Izmir', 'Izmir Province', 'Ottoman Empire', 'Görece', 'Araphan', 'Menderes', 'Mediterranean', 'Kemalpaşa', 'Turkey', 'Kemeraltı', 'Anatolia']\n"
     ]
    }
   ],
   "source": [
    "id = 100\n",
    "\n",
    "def get_example(idx, datatmp):\n",
    "    allEntities = set()\n",
    "    for item in datatmp[\"Triplets\"][idx].split(\"\\n\"):\n",
    "        item = item.split(\" | \")\n",
    "        if len(item) == 3:\n",
    "            allEntities.add(item[0])\n",
    "            allEntities.add(item[2])\n",
    "            \n",
    "    return datatmp[\"Text\"][idx], list(allEntities)\n",
    "\n",
    "ex1, exout1 = get_example(100, data_v2)\n",
    "ex2, exout2 = get_example(200, data_v2)\n",
    "\n",
    "print(ex1, exout1)\n",
    "print()\n",
    "print(ex2, exout2)"
   ]
  },
  {
   "cell_type": "code",
   "execution_count": 10,
   "id": "98e0ceac-ab39-4b9e-b7e8-ccfb0519ac4e",
   "metadata": {},
   "outputs": [],
   "source": [
    "def get_prompt(ex1, exout1, ex2, exout2, text):\n",
    "    prompt=f'''Task: Please detect all the entities from the given input Text.\n",
    "Use the following examples as reference to understand the task. \\\n",
    "Give the output in the same format as given in the Example Entities Output, i.e., as a Python list.\n",
    "\n",
    "Example Text 1: {ex1}\n",
    "Example Entities Output 1: {exout1}\n",
    "\n",
    "Example Text 2: {ex2}\n",
    "Example Entities Output 2: {exout2}\n",
    "\n",
    "Text: {text}\n",
    "Entities Output:'''\n",
    "    return prompt"
   ]
  },
  {
   "cell_type": "code",
   "execution_count": 18,
   "id": "a4d17bdd-2399-4ef5-837e-9d94506197bf",
   "metadata": {
    "tags": []
   },
   "outputs": [
    {
     "data": {
      "text/plain": [
       "'Task: Please detect all the entities from the given input Text.\\nUse the following examples as reference to understand the task. Give the output in the same format as given in the Example Entities Output, i.e., as a Python list.\\n\\nExample Text 1: Best Wishes is the second album by New York hardcore band, Cro-Mags. It was released on April 26, 1989 on Profile Records and was subsequently re-released on Another Planet  along with their debut album, The Age Of Quarrel, on the same disc. The album\\'s cover reflected the band\\'s interest in the Hare Krishna religion which started with previous singer John Joseph and then carried on through Harley Flanagan who also became a devotee. The Krishna faith was ultimately the demise of the band, as the contradiction of a faith of pacifism against the violence of the band\\'s music was often even too much for the band members to handle. However, before this, in 1992, their next album, Alpha Omega, saw the return of John Joseph to the Cro-Mags fold, and an even further gravitation towards a metal sound. \\nExample Entities Output 1: [\\'Harley Flanagan\\', \\'The Age Of Quarrel\\', \\'Cro-Mags\\', \\'New York\\', \\'Profile Records\\', \\'John Joseph\\', \\'Cro - Mags\\', \\'Another Planet\\', \\'1992\\', \\'Alpha Omega\\', \\'Best Wishes\\', \\'April 26, 1989\\']\\n\\nExample Text 2: Grece is a village in the Menderes district of Izmir Province, Turkey. It is known for its production of eye beads. Today, the real eye beads are produced only in Grece and Kurudere (Kemalpaa) villages near Izmir by a handful of craftsmen, who have devoted their lives to this art. The 3000-year-old antique Mediterranean glass art lives in these eye bead furnaces with its every detail. The roots of the very few glass masters who still practise this age-old tradition goes back to the Arab artisans, who have settled in Izmir and its towns during the decline of the Ottoman Empire by the end of 19th century. The glass art that has lost its glamour in Anatolia, combining with the eye sign, was relived. The masters who practised their arts at Araphan and Kemeralt, districts of zmir, were exiled due to the smoke emissions from their furnaces and fire risks to the neighbourhood. \\nExample Entities Output 2: [\\'Izmir\\', \\'Izmir Province\\', \\'Ottoman Empire\\', \\'Görece\\', \\'Araphan\\', \\'Menderes\\', \\'Mediterranean\\', \\'Kemalpaşa\\', \\'Turkey\\', \\'Kemeraltı\\', \\'Anatolia\\']\\n\\nText: \" Lost Verizon \" is the second episode of The Simpsons \\' twentieth season. It first aired on the Fox network in the United States on October 5, 2008. Bart becomes jealous of his friends and their cell phones. Working at a golf course, Bart takes the cell phone of Denis Leary after the star comedian throws it away in anger. Marge, per Leary\\'s advice, activates the GPS system on the phone to track down Bart\\'s every move ; catching on, Bart attaches the GPS chip to a bird that migrates to Machu Picchu, Peru. Leary and Brian Grazer (who also appeared in \" When You Dish Upon a Star \" as himself) both guest star as themselves. It was directed by Raymond S. Persi and written by John Frink. \\nEntities Output:'"
      ]
     },
     "execution_count": 18,
     "metadata": {},
     "output_type": "execute_result"
    }
   ],
   "source": [
    "idx = 200\n",
    "get_prompt(ex1, exout1, ex2, exout2, data[\"Text\"][idx])"
   ]
  },
  {
   "cell_type": "code",
   "execution_count": 19,
   "id": "33220700-f743-4880-9a92-11c705ae2b8b",
   "metadata": {},
   "outputs": [
    {
     "data": {
      "text/plain": [
       "'\" Lost Verizon \" is the second episode of The Simpsons \\' twentieth season. It first aired on the Fox network in the United States on October 5, 2008. Bart becomes jealous of his friends and their cell phones. Working at a golf course, Bart takes the cell phone of Denis Leary after the star comedian throws it away in anger. Marge, per Leary\\'s advice, activates the GPS system on the phone to track down Bart\\'s every move ; catching on, Bart attaches the GPS chip to a bird that migrates to Machu Picchu, Peru. Leary and Brian Grazer (who also appeared in \" When You Dish Upon a Star \" as himself) both guest star as themselves. It was directed by Raymond S. Persi and written by John Frink. '"
      ]
     },
     "execution_count": 19,
     "metadata": {},
     "output_type": "execute_result"
    }
   ],
   "source": [
    "data[\"Text\"][idx]"
   ]
  },
  {
   "cell_type": "code",
   "execution_count": 20,
   "id": "a1948b34-a6c9-43f0-a073-ceecfd40bd8b",
   "metadata": {},
   "outputs": [
    {
     "data": {
      "text/plain": [
       "(['Fox',\n",
       "  'Marge',\n",
       "  'Brian Grazer',\n",
       "  'Leary',\n",
       "  'Machu Picchu',\n",
       "  'Bart',\n",
       "  'Peru',\n",
       "  'John Frink',\n",
       "  'The Simpsons',\n",
       "  'Raymond S. Persi',\n",
       "  'When You Dish Upon a Star',\n",
       "  'the United States',\n",
       "  'Denis Leary',\n",
       "  'Lost Verizon'],\n",
       " 14)"
      ]
     },
     "execution_count": 20,
     "metadata": {},
     "output_type": "execute_result"
    }
   ],
   "source": [
    "_, output = get_example(idx, data)\n",
    "output, len(output)"
   ]
  },
  {
   "cell_type": "code",
   "execution_count": null,
   "id": "f1746814-7e71-4087-a9c2-d4d71857dac3",
   "metadata": {},
   "outputs": [],
   "source": [
    "output = ['Jeff Healey', 'Doc Pomus', 'Mort Shuman', 'Elvis Presley', 'Islington Academy', 'London', 'Jeff Healey\\'s Roadhouse', 'Toronto', 'Studio 92', 'Canada', 'Mess of Blues']\n",
    "len(output), output"
   ]
  },
  {
   "cell_type": "code",
   "execution_count": null,
   "id": "13e113f1-f54d-419f-84f0-867461fd3c39",
   "metadata": {},
   "outputs": [],
   "source": []
  }
 ],
 "metadata": {
  "kernelspec": {
   "display_name": "Python [conda env:.conda-hw1]",
   "language": "python",
   "name": "conda-env-.conda-hw1-py"
  },
  "language_info": {
   "codemirror_mode": {
    "name": "ipython",
    "version": 3
   },
   "file_extension": ".py",
   "mimetype": "text/x-python",
   "name": "python",
   "nbconvert_exporter": "python",
   "pygments_lexer": "ipython3",
   "version": "3.9.7"
  }
 },
 "nbformat": 4,
 "nbformat_minor": 5
}
