{
 "cells": [
  {
   "cell_type": "code",
   "execution_count": 1,
   "id": "65d18b04-af97-48d4-9dd2-1a40b70b8a25",
   "metadata": {},
   "outputs": [],
   "source": [
    "import os\n",
    "import pandas as pd\n",
    "import collections"
   ]
  },
  {
   "cell_type": "code",
   "execution_count": 9,
   "id": "f3d17745-4939-4cca-9e0e-b3b47dc7fc09",
   "metadata": {},
   "outputs": [
    {
     "name": "stdout",
     "output_type": "stream",
     "text": [
      "(500, 4)\n"
     ]
    },
    {
     "data": {
      "text/html": [
       "<div>\n",
       "<style scoped>\n",
       "    .dataframe tbody tr th:only-of-type {\n",
       "        vertical-align: middle;\n",
       "    }\n",
       "\n",
       "    .dataframe tbody tr th {\n",
       "        vertical-align: top;\n",
       "    }\n",
       "\n",
       "    .dataframe thead th {\n",
       "        text-align: right;\n",
       "    }\n",
       "</style>\n",
       "<table border=\"1\" class=\"dataframe\">\n",
       "  <thead>\n",
       "    <tr style=\"text-align: right;\">\n",
       "      <th></th>\n",
       "      <th>Unnamed: 0</th>\n",
       "      <th>Title</th>\n",
       "      <th>Text</th>\n",
       "      <th>Triplets</th>\n",
       "    </tr>\n",
       "  </thead>\n",
       "  <tbody>\n",
       "    <tr>\n",
       "      <th>0</th>\n",
       "      <td>0</td>\n",
       "      <td>Willi Schneider (skeleton racer)</td>\n",
       "      <td>Wilfried \" Willi \" Schneider (born 13 March 19...</td>\n",
       "      <td>2002 Winter Olympics | start time | 2002\\n2002...</td>\n",
       "    </tr>\n",
       "    <tr>\n",
       "      <th>1</th>\n",
       "      <td>1</td>\n",
       "      <td>Ross Alger</td>\n",
       "      <td>Ross Patterson Alger (August 20, 1920  January...</td>\n",
       "      <td>Ross Patterson Alger | place of birth | Prelat...</td>\n",
       "    </tr>\n",
       "    <tr>\n",
       "      <th>2</th>\n",
       "      <td>2</td>\n",
       "      <td>Mess of Blues (Jeff Healey album)</td>\n",
       "      <td>Mess of Blues is an album by Jeff Healey. It w...</td>\n",
       "      <td>Mess of Blues | publication date | 2008\\nMess ...</td>\n",
       "    </tr>\n",
       "    <tr>\n",
       "      <th>3</th>\n",
       "      <td>3</td>\n",
       "      <td>Ramey Idriss</td>\n",
       "      <td>Ramey Idriss (11 September 1911  5 February 19...</td>\n",
       "      <td>Wet Blanket Policy | publication date | 1948\\n...</td>\n",
       "    </tr>\n",
       "    <tr>\n",
       "      <th>4</th>\n",
       "      <td>4</td>\n",
       "      <td>ELAM (Latin American School of Medicine) Cuba</td>\n",
       "      <td>Escuela Latinoamericana de Medicina (ELAM), fo...</td>\n",
       "      <td>Latin American School of Medicine | country | ...</td>\n",
       "    </tr>\n",
       "  </tbody>\n",
       "</table>\n",
       "</div>"
      ],
      "text/plain": [
       "   Unnamed: 0                                          Title  \\\n",
       "0           0               Willi Schneider (skeleton racer)   \n",
       "1           1                                     Ross Alger   \n",
       "2           2              Mess of Blues (Jeff Healey album)   \n",
       "3           3                                   Ramey Idriss   \n",
       "4           4  ELAM (Latin American School of Medicine) Cuba   \n",
       "\n",
       "                                                Text  \\\n",
       "0  Wilfried \" Willi \" Schneider (born 13 March 19...   \n",
       "1  Ross Patterson Alger (August 20, 1920  January...   \n",
       "2  Mess of Blues is an album by Jeff Healey. It w...   \n",
       "3  Ramey Idriss (11 September 1911  5 February 19...   \n",
       "4  Escuela Latinoamericana de Medicina (ELAM), fo...   \n",
       "\n",
       "                                            Triplets  \n",
       "0  2002 Winter Olympics | start time | 2002\\n2002...  \n",
       "1  Ross Patterson Alger | place of birth | Prelat...  \n",
       "2  Mess of Blues | publication date | 2008\\nMess ...  \n",
       "3  Wet Blanket Policy | publication date | 1948\\n...  \n",
       "4  Latin American School of Medicine | country | ...  "
      ]
     },
     "execution_count": 9,
     "metadata": {},
     "output_type": "execute_result"
    }
   ],
   "source": [
    "data_path = \"/work/pi_dhruveshpate_umass_edu/project_19/ReDocREDPreprocessing/Re-DocRED/processed/\"\n",
    "file = \"Re-DocRED_Processed_Dev.csv\"\n",
    "\n",
    "data = pd.read_csv(os.path.join(data_path, file))\n",
    "print(data.shape)\n",
    "data.head()"
   ]
  },
  {
   "cell_type": "markdown",
   "id": "ef4e96ea-1b12-4d9d-a33c-b0fe26d9d940",
   "metadata": {},
   "source": [
    "### Number of samples\n",
    "Dev - 500\n",
    "\n",
    "Test - 500\n",
    "\n",
    "Train - 3053"
   ]
  },
  {
   "cell_type": "code",
   "execution_count": null,
   "id": "957c21e2-8e2f-4cc9-87a2-8d7cae442a38",
   "metadata": {},
   "outputs": [],
   "source": [
    "idx = 3\n",
    "\n",
    "data[\"Triplets\"][idx].split(\"\\n\")"
   ]
  },
  {
   "cell_type": "code",
   "execution_count": 14,
   "id": "9aa4e427-17fd-4d11-8922-f203d4aed490",
   "metadata": {},
   "outputs": [
    {
     "name": "stdout",
     "output_type": "stream",
     "text": [
      "'float' object has no attribute 'split'\n",
      "nan\n"
     ]
    },
    {
     "data": {
      "text/plain": [
       "(412, 133)"
      ]
     },
     "execution_count": 14,
     "metadata": {},
     "output_type": "execute_result"
    }
   ],
   "source": [
    "maxInputTokens = 0\n",
    "maxTriplets = 0\n",
    "\n",
    "for idx in range(data.shape[0]):\n",
    "    # print(idx)\n",
    "    \n",
    "    try:\n",
    "        maxInputTokens = max(maxInputTokens, len(data[\"Text\"][idx].split(\" \")))\n",
    "        maxTriplets = max(maxTriplets, len(data[\"Triplets\"][idx].split(\"\\n\")))\n",
    "        \n",
    "    except Exception as e:\n",
    "        print(e)\n",
    "        print(data[\"Triplets\"][idx])\n",
    "    \n",
    "maxInputTokens, maxTriplets"
   ]
  },
  {
   "cell_type": "code",
   "execution_count": null,
   "id": "25e40846-cc98-4cdf-9dbb-66be55bf9543",
   "metadata": {},
   "outputs": [],
   "source": []
  }
 ],
 "metadata": {
  "kernelspec": {
   "display_name": "Python [conda env:.conda-hw1]",
   "language": "python",
   "name": "conda-env-.conda-hw1-py"
  },
  "language_info": {
   "codemirror_mode": {
    "name": "ipython",
    "version": 3
   },
   "file_extension": ".py",
   "mimetype": "text/x-python",
   "name": "python",
   "nbconvert_exporter": "python",
   "pygments_lexer": "ipython3",
   "version": "3.9.7"
  }
 },
 "nbformat": 4,
 "nbformat_minor": 5
}
